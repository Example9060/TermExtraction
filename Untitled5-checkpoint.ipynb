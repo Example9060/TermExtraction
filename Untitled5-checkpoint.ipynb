{
 "cells": [
  {
   "cell_type": "markdown",
   "id": "b49ddaa1-30ce-4857-9d30-a94613f93d68",
   "metadata": {},
   "source": [
    "## 1. Data Preparation"
   ]
  },
  {
   "cell_type": "markdown",
   "id": "a35719ae-0a43-4e63-8d42-27c4348f95d4",
   "metadata": {},
   "source": [
    "Group: BDA - 2205\n",
    "\n",
    "Full Name: Temirlan Zhexembayev\n",
    "\n",
    "Topic : Term Extraction "
   ]
  },
  {
   "cell_type": "code",
   "execution_count": 61,
   "id": "813869dd-ddff-4aeb-8178-b92ce0ba9086",
   "metadata": {},
   "outputs": [],
   "source": [
    "import matplotlib.pyplot as plt\n",
    "import seaborn as sns\n",
    "import numpy as np\n",
    "import pandas as pd"
   ]
  },
  {
   "cell_type": "code",
   "execution_count": 21,
   "id": "b8067c58-19d9-4b5c-a598-2a19a34b5a36",
   "metadata": {},
   "outputs": [],
   "source": [
    "from datasets import load_dataset\n",
    "\n",
    "ds = load_dataset(\"patriziobellan/PETv11\", \"token-classification\")"
   ]
  },
  {
   "cell_type": "code",
   "execution_count": 31,
   "id": "afc92d35-18a1-4f37-afef-8dc1e54a7714",
   "metadata": {},
   "outputs": [
    {
     "name": "stdout",
     "output_type": "stream",
     "text": [
      "Dataset({\n",
      "    features: ['document name', 'sentence-ID', 'tokens', 'ner-tags'],\n",
      "    num_rows: 5\n",
      "})\n"
     ]
    }
   ],
   "source": [
    "print(ds['test'].select(range(5)))"
   ]
  },
  {
   "cell_type": "code",
   "execution_count": 59,
   "id": "c2822f97-d3cc-4ef6-a100-04786bbc5386",
   "metadata": {},
   "outputs": [],
   "source": [
    "df = pd.DataFrame(ds['test'])\n"
   ]
  },
  {
   "cell_type": "code",
   "execution_count": 43,
   "id": "5abc1a38-1f06-4b2f-9e51-954228962c8a",
   "metadata": {},
   "outputs": [
    {
     "data": {
      "text/html": [
       "<div>\n",
       "<style scoped>\n",
       "    .dataframe tbody tr th:only-of-type {\n",
       "        vertical-align: middle;\n",
       "    }\n",
       "\n",
       "    .dataframe tbody tr th {\n",
       "        vertical-align: top;\n",
       "    }\n",
       "\n",
       "    .dataframe thead th {\n",
       "        text-align: right;\n",
       "    }\n",
       "</style>\n",
       "<table border=\"1\" class=\"dataframe\">\n",
       "  <thead>\n",
       "    <tr style=\"text-align: right;\">\n",
       "      <th></th>\n",
       "      <th>document name</th>\n",
       "      <th>sentence-ID</th>\n",
       "      <th>tokens</th>\n",
       "      <th>ner-tags</th>\n",
       "    </tr>\n",
       "  </thead>\n",
       "  <tbody>\n",
       "    <tr>\n",
       "      <th>0</th>\n",
       "      <td>doc-10.1</td>\n",
       "      <td>0</td>\n",
       "      <td>[The, MPON, sents, the, dismissal, to, the, MP...</td>\n",
       "      <td>[1, 2, 3, 5, 6, 0, 1, 2, 0]</td>\n",
       "    </tr>\n",
       "    <tr>\n",
       "      <th>1</th>\n",
       "      <td>doc-10.1</td>\n",
       "      <td>1</td>\n",
       "      <td>[The, MPOO, reviews, the, dismissal, .]</td>\n",
       "      <td>[1, 2, 3, 5, 6, 0]</td>\n",
       "    </tr>\n",
       "    <tr>\n",
       "      <th>2</th>\n",
       "      <td>doc-10.1</td>\n",
       "      <td>2</td>\n",
       "      <td>[The, MPOO, opposes, the, dismissal, of, MPON,...</td>\n",
       "      <td>[1, 2, 3, 5, 6, 0, 0, 9, 1, 2, 3, 5, 6, 0, 0, ...</td>\n",
       "    </tr>\n",
       "    <tr>\n",
       "      <th>3</th>\n",
       "      <td>doc-10.12</td>\n",
       "      <td>0</td>\n",
       "      <td>[The, EC, tells, the, INQ, about, the, change,...</td>\n",
       "      <td>[1, 2, 3, 1, 2, 5, 6, 6, 6, 6, 6, 6, 0]</td>\n",
       "    </tr>\n",
       "    <tr>\n",
       "      <th>4</th>\n",
       "      <td>doc-10.12</td>\n",
       "      <td>1</td>\n",
       "      <td>[The, INQ, notifies, the, IP, of, the, change, .]</td>\n",
       "      <td>[1, 2, 3, 1, 2, 0, 5, 6, 0]</td>\n",
       "    </tr>\n",
       "  </tbody>\n",
       "</table>\n",
       "</div>"
      ],
      "text/plain": [
       "  document name  sentence-ID  \\\n",
       "0      doc-10.1            0   \n",
       "1      doc-10.1            1   \n",
       "2      doc-10.1            2   \n",
       "3     doc-10.12            0   \n",
       "4     doc-10.12            1   \n",
       "\n",
       "                                              tokens  \\\n",
       "0  [The, MPON, sents, the, dismissal, to, the, MP...   \n",
       "1            [The, MPOO, reviews, the, dismissal, .]   \n",
       "2  [The, MPOO, opposes, the, dismissal, of, MPON,...   \n",
       "3  [The, EC, tells, the, INQ, about, the, change,...   \n",
       "4  [The, INQ, notifies, the, IP, of, the, change, .]   \n",
       "\n",
       "                                            ner-tags  \n",
       "0                        [1, 2, 3, 5, 6, 0, 1, 2, 0]  \n",
       "1                                 [1, 2, 3, 5, 6, 0]  \n",
       "2  [1, 2, 3, 5, 6, 0, 0, 9, 1, 2, 3, 5, 6, 0, 0, ...  \n",
       "3            [1, 2, 3, 1, 2, 5, 6, 6, 6, 6, 6, 6, 0]  \n",
       "4                        [1, 2, 3, 1, 2, 0, 5, 6, 0]  "
      ]
     },
     "execution_count": 43,
     "metadata": {},
     "output_type": "execute_result"
    }
   ],
   "source": [
    "df.head()"
   ]
  },
  {
   "cell_type": "code",
   "execution_count": 41,
   "id": "712b7fbb-8952-4421-8860-9f17ca87c1dd",
   "metadata": {},
   "outputs": [
    {
     "data": {
      "text/plain": [
       "document name    0\n",
       "sentence-ID      0\n",
       "tokens           0\n",
       "ner-tags         0\n",
       "dtype: int64"
      ]
     },
     "execution_count": 41,
     "metadata": {},
     "output_type": "execute_result"
    }
   ],
   "source": [
    "df.isnull().sum()"
   ]
  },
  {
   "cell_type": "code",
   "execution_count": 51,
   "id": "cebc2375-622e-4443-8db3-a253e0c6b44d",
   "metadata": {},
   "outputs": [
    {
     "data": {
      "text/plain": [
       "(417, 4)"
      ]
     },
     "execution_count": 51,
     "metadata": {},
     "output_type": "execute_result"
    }
   ],
   "source": [
    "df.shape"
   ]
  },
  {
   "cell_type": "markdown",
   "id": "59908dd4-789f-46df-b329-2dbb462fb04f",
   "metadata": {},
   "source": [
    "## 2. Analysis and Visualization"
   ]
  },
  {
   "cell_type": "code",
   "execution_count": 65,
   "id": "814ea1b1-da7b-4c7c-b519-a68b8b00fea3",
   "metadata": {},
   "outputs": [
    {
     "name": "stderr",
     "output_type": "stream",
     "text": [
      "C:\\Users\\tzhex\\AppData\\Local\\Temp\\ipykernel_11352\\3254370085.py:5: FutureWarning: \n",
      "\n",
      "Passing `palette` without assigning `hue` is deprecated and will be removed in v0.14.0. Assign the `x` variable to `hue` and set `legend=False` for the same effect.\n",
      "\n",
      "  sns.barplot(x=unique_tags, y=counts, palette='viridis')\n"
     ]
    },
    {
     "data": {
      "image/png": "[encoded data removed]",
      "text/plain": [
       "<Figure size 1000x500 with 1 Axes>"
      ]
     },
     "metadata": {},
     "output_type": "display_data"
    }
   ],
   "source": [
    "all_tags = [tag for sublist in df['ner-tags'] for tag in sublist]\n",
    "unique_tags, counts = np.unique(all_tags, return_counts=True)\n",
    "\n",
    "plt.figure(figsize=(10, 5))\n",
    "sns.barplot(x=unique_tags, y=counts, palette='viridis')\n",
    "plt.xlabel('NER-tags')\n",
    "plt.ylabel('Frequency')\n",
    "plt.title('Distribution of NER-tags')\n",
    "plt.show()"
   ]
  },
  {
   "cell_type": "code",
   "execution_count": 69,
   "id": "1f43e22e-f99c-4e0a-b3a6-386469a25591",
   "metadata": {},
   "outputs": [
    {
     "data": {
      "image/png": "[encoded data removed]",
      "text/plain": [
       "<Figure size 1000x500 with 1 Axes>"
      ]
     },
     "metadata": {},
     "output_type": "display_data"
    }
   ],
   "source": [
    "sen_len = df['tokens'].apply(len)\n",
    "\n",
    "plt.figure(figsize=(10, 5))\n",
    "sns.histplot(sen_len, bins=20, kde=True, color='blue')\n",
    "plt.xlabel('Number of tokens')\n",
    "plt.ylabel('Frequency')\n",
    "plt.title('Distribution of sentence lengths')\n",
    "plt.show()\n"
   ]
  },
  {
   "cell_type": "code",
   "execution_count": 77,
   "id": "493937af-5d13-4ba7-8185-1192fc76f3f1",
   "metadata": {},
   "outputs": [
    {
     "name": "stdout",
     "output_type": "stream",
     "text": [
      "         Token  NER-Tag\n",
      "7564  finishes        0\n",
      "7565       the        0\n",
      "7566   process        0\n",
      "7567  instance        0\n",
      "7568         .        0\n"
     ]
    }
   ],
   "source": [
    "tokens_list = []\n",
    "ner_tags_list = []\n",
    "\n",
    "for tokens, tags in zip(df['tokens'], df['ner-tags']):\n",
    "    tokens_list.extend(tokens)\n",
    "    ner_tags_list.extend(tags)\n",
    "\n",
    "tokens_df = pd.DataFrame({'Token': tokens_list, 'NER-Tag': ner_tags_list})\n",
    "print(tokens_df.tail()) "
   ]
  },
  {
   "cell_type": "markdown",
   "id": "41d49faa-fc24-4389-abcf-8ac40480562b",
   "metadata": {},
   "source": [
    "## 3. Model tuning"
   ]
  },
  {
   "cell_type": "code",
   "execution_count": 97,
   "id": "ea29e83a-bfec-4f5f-b49c-e1b87de34cfe",
   "metadata": {},
   "outputs": [
    {
     "name": "stdout",
     "output_type": "stream",
     "text": [
      "Collecting en-core-web-sm==3.8.0\n",
      "  Downloading https://github.com/explosion/spacy-models/releases/download/en_core_web_sm-3.8.0/en_core_web_sm-3.8.0-py3-none-any.whl (12.8 MB)\n",
      "     ---------------------------------------- 0.0/12.8 MB ? eta -:--:--\n",
      "     ---------------------------------------- 0.0/12.8 MB ? eta -:--:--\n",
      "     -- ------------------------------------- 0.8/12.8 MB 4.8 MB/s eta 0:00:03\n",
      "     ------------- -------------------------- 4.2/12.8 MB 11.4 MB/s eta 0:00:01\n",
      "     ----------------------------------- --- 11.5/12.8 MB 20.1 MB/s eta 0:00:01\n",
      "     --------------------------------------- 12.8/12.8 MB 20.1 MB/s eta 0:00:00\n",
      "Installing collected packages: en-core-web-sm\n",
      "Successfully installed en-core-web-sm-3.8.0\n",
      "\u001b[38;5;2m[+] Download and installation successful\u001b[0m\n",
      "You can now load the package via spacy.load('en_core_web_sm')\n"
     ]
    }
   ],
   "source": [
    "!python -m spacy download en_core_web_sm\n"
   ]
  },
  {
   "cell_type": "code",
   "execution_count": 110,
   "id": "db77e703-0a9a-4b5a-9d96-67e36d94f1c1",
   "metadata": {},
   "outputs": [
    {
     "name": "stderr",
     "output_type": "stream",
     "text": [
      "No model was supplied, defaulted to facebook/bart-large-mnli and revision d7645e1 (https://huggingface.co/facebook/bart-large-mnli).\n",
      "Using a pipeline without specifying a model name and revision in production is not recommended.\n"
     ]
    },
    {
     "name": "stdout",
     "output_type": "stream",
     "text": [
      "WARNING:tensorflow:From C:\\Users\\tzhex\\anaconda3\\Lib\\site-packages\\tf_keras\\src\\losses.py:2976: The name tf.losses.sparse_softmax_cross_entropy is deprecated. Please use tf.compat.v1.losses.sparse_softmax_cross_entropy instead.\n",
      "\n"
     ]
    },
    {
     "data": {
      "application/vnd.jupyter.widget-view+json": {
       "model_id": "a4ef3e93fad9432c9f897756cfd7f3d8",
       "version_major": 2,
       "version_minor": 0
      },
      "text/plain": [
       "model.safetensors:   0%|          | 0.00/1.63G [00:00<?, ?B/s]"
      ]
     },
     "metadata": {},
     "output_type": "display_data"
    },
    {
     "data": {
      "application/vnd.jupyter.widget-view+json": {
       "model_id": "705e51638d22447499277423411d1647",
       "version_major": 2,
       "version_minor": 0
      },
      "text/plain": [
       "tokenizer_config.json:   0%|          | 0.00/26.0 [00:00<?, ?B/s]"
      ]
     },
     "metadata": {},
     "output_type": "display_data"
    },
    {
     "data": {
      "application/vnd.jupyter.widget-view+json": {
       "model_id": "ed7207c0f48d4b41ace18ed3350107df",
       "version_major": 2,
       "version_minor": 0
      },
      "text/plain": [
       "vocab.json:   0%|          | 0.00/899k [00:00<?, ?B/s]"
      ]
     },
     "metadata": {},
     "output_type": "display_data"
    },
    {
     "data": {
      "application/vnd.jupyter.widget-view+json": {
       "model_id": "112ef24e8af34f9f9aeac678c617c59b",
       "version_major": 2,
       "version_minor": 0
      },
      "text/plain": [
       "merges.txt:   0%|          | 0.00/456k [00:00<?, ?B/s]"
      ]
     },
     "metadata": {},
     "output_type": "display_data"
    },
    {
     "data": {
      "application/vnd.jupyter.widget-view+json": {
       "model_id": "32ddec655ac24cde9c61a32f07155b1a",
       "version_major": 2,
       "version_minor": 0
      },
      "text/plain": [
       "tokenizer.json:   0%|          | 0.00/1.36M [00:00<?, ?B/s]"
      ]
     },
     "metadata": {},
     "output_type": "display_data"
    },
    {
     "name": "stderr",
     "output_type": "stream",
     "text": [
      "Device set to use cpu\n"
     ]
    },
    {
     "name": "stdout",
     "output_type": "stream",
     "text": [
      "\n",
      "🔹 Named Entities: [['MPOO'], ['MPOO'], ['MPOO', 'MPON'], ['EC', 'INQ'], ['INQ', 'IP'], ['IP'], ['IP', 'INQ', 'IP', 'INQ'], ['CRS'], [], ['two'], ['first', 'second'], [], [], ['MPON', 'GO'], ['GO'], ['GO', 'MPON', 'GO'], ['GO'], ['GO'], ['MPON', 'MPOO'], ['GO', 'GO'], ['GO', 'GO'], ['GO', 'GO', 'MPON'], ['GO', 'GO', 'MPON'], ['MPON'], ['GO', 'MPON', 'GO'], ['GO', 'MPON', 'GO'], ['GO', 'SP'], ['first'], [], ['First'], [], [], ['the Securities and Exchange Commission', 'SEC'], ['SEC'], [], [], ['SEC'], [], [], [], ['Handling'], [], [], [], [], ['MPON'], ['MPOO', 'MPON', 'MPOO'], ['MPON', 'MPOO'], ['MPON', 'MPOO'], ['MPON'], ['MPON'], ['GO'], ['MPON', 'GO'], ['MSP'], ['GO'], ['GO', 'MSPN'], ['GO', 'GO', 'MSPN'], ['GO', 'MSPN'], ['GO', 'MSPN'], ['GO', 'MPO', 'MSPN'], ['GO', 'SP', 'MSPN'], ['morning', 'Account Defaulter'], ['CRM'], [], [], ['2', '30 pm'], ['CRM'], [], ['4', '0 pm'], ['INQ', 'IP'], ['IP', 'INQ'], ['IP', 'INQ'], [], [], [], [], ['the Customer Service', 'TELECO'], [], [], [], [], [], [], [], ['Service Management'], ['first'], ['Resource Provisioning'], ['Service Management', 'Resource Provisioning'], [], [], [], ['Resource Provisioning'], ['Service Management'], [], [], ['Three'], ['the Customer Service'], ['Service Management'], ['Customer Service'], ['Service Management'], ['Resource Provisioning'], ['Resource Provisioning'], ['2 days', 'Resource Provisioning'], [], ['Resource Provisioning'], [], ['Service Management'], ['Service Management'], ['Customer Service'], ['two', 'SLA', 'Billing & Collections'], [], ['three', 'Customer Service'], ['Customer Service'], ['the first of each month', 'Assembler AG'], ['Assembler AG'], [], ['Assembler AG'], ['Assembler AG'], ['first'], [], [], [], [], ['Claims Management'], [], [], ['the Coordination Unit'], ['a week'], ['Committee', 'the Support Office', 'Action Points', 'Committee'], ['5 working days', 'QA', 'the minutes', 'Committee'], [], ['November of each year', 'the Town Planning Authority', 'the next calendar year'], [], [], [], ['First'], ['five'], [], [], [], [], [], [], [], ['Department'], [], [], [], [], ['MPOO', 'GO', 'GO'], ['MSPO', 'GO', 'GO'], ['MSPO', 'GO', 'GO'], ['MPOO', 'MPON', 'GO', 'MPON', 'GO'], ['MPOO', 'MSPO', 'GO', 'MPON', 'MSPO'], [], ['the Personnel Department'], [], [], [], [], ['first', 'one'], ['PPS'], [], [], ['ERP'], ['second'], [], [], [], ['MSPN', 'MSPO'], [], ['MSPN'], ['MPO', 'MPO'], ['MPO'], ['MPO', 'MPO'], ['MPO'], ['MPO'], ['Evanstonian'], ['Evanstonian'], [], [], ['Eighty percent'], [], [], [], [], [], [], [], [], ['Sales and Distribution'], ['CRM'], [], [], [], [], [], [], ['CIS'], [], [], [], ['CIS'], [], [], [], [], ['CIS'], [], [], ['7 days', 'the 7th day'], ['7 days'], ['no later than 10 days'], [], [], [], [], [], [], [], [], [], [], [], [], [], [], [], ['GO'], ['GO'], ['GO', 'GO', 'MSPO'], ['GO', 'MSP'], ['GO', 'GO'], ['GO', 'MPO', 'GO'], ['GO', 'SP', 'GO'], ['MPO', 'MPO'], ['MPO'], ['MPO', 'MPO'], ['MPO', 'GO', 'MSP'], ['MPO'], ['MPO'], ['MPO', 'GO'], ['MPO', 'MSP'], [], [], [], [], [], [], [], [], [], [], [], ['two', 'first', 'second'], [], [], ['Halfway', 'the week', 'Wednesday'], [], [], ['first'], ['One', 'second'], [], [], [], [], [], ['first', 'second'], [], [], ['second'], ['first'], ['first'], [], ['first'], [], ['second', 'first'], [], [], ['first', 'second'], ['Wednesday'], ['first', 'second'], [], ['The Customer Service Representative'], [], [], [], ['2 weeks'], ['GO'], ['GO'], ['GO', 'MPOO', 'GO', 'MPOO'], ['GO'], ['GO', 'MPOO'], ['GO', 'MPOO', 'MPOO'], [], ['GO', 'GO', 'MPO'], ['GO', 'MPOO', 'GO'], ['GO', 'GO'], ['GO', 'SP', 'GO'], ['Vacations Request'], [], [], [], ['the Human Resources Representative'], ['ACME AG'], ['Secretariat'], ['the ACME AG'], ['the ACME AG'], ['first'], [], ['one'], [], [], ['e.g .', 'AP'], [], [], ['AP'], [], ['EUR', '20', 'Board', '4'], [], [], [], ['first'], [], [], [], [], [], [], [], [], [], [], [], ['2 weeks'], [], [], [], ['200', 'over $200'], [], [], ['7 days'], ['30 days'], ['MPOO'], ['MPOO'], ['MPOO'], ['MPON'], ['Each morning', 'that day'], [], ['the Judgeis Lawlist'], [], ['daily', 'the Mail Processing Unit'], ['Clerk'], [], ['Registry', 'Mail Register'], ['Registry'], [], ['Cashier'], [], ['Cashier', 'Party Details', 'the Physical Court File'], [], [], [], [], ['10,000'], [], [], [], [], [], [], [], ['The Client Service Back Office', 'the Small Claims Registry Operations', 'SCT'], ['the SCT Warrant Possession', 'Queensland Police'], ['SCT', 'Back Office'], ['SCT'], ['Back Office', 'SCT', 'SCT'], ['SCT'], ['the Claim Documentation'], [], [], ['the Action Plan'], [], ['GO', 'MSP'], ['MSP'], ['MSP', 'GO', 'MSP'], ['MSP', 'GO', 'MSP', 'GO'], ['GO'], ['GO', 'MSP'], ['GO', 'SP'], [], [], [], [], ['first'], [], [], [], [], ['e.g .'], [], [], [], [], [], [], [], [], [], [], [], [], [], [], [], [], []]\n",
      "\n",
      "🔹 Top TF-IDF Words: ['service', 'report', 'process', 'mpon', 'customer']\n",
      "\n",
      "🔹 LDA Topics:\n",
      "(0, '0.125*\"the\" + 0.052*\".\" + 0.033*\"of\" + 0.028*\"The\" + 0.022*\",\"')\n",
      "(1, '0.086*\"the\" + 0.045*\".\" + 0.035*\",\" + 0.026*\"to\" + 0.023*\"is\"')\n",
      "\n",
      "🔹 BERT Aspect Classification: ['AI', 'Machine Learning', 'AI', 'Data Science', 'AI', 'Data Science', 'AI', 'AI', 'AI', 'AI', 'Python', 'AI', 'AI', 'AI', 'Machine Learning', 'AI', 'AI', 'AI', 'AI', 'AI', 'AI', 'AI', 'AI', 'Machine Learning', 'AI', 'AI', 'AI', 'Python', 'Python', 'Python', 'AI', 'Python', 'AI', 'Python', 'Python', 'Python', 'Python', 'Python', 'AI', 'AI', 'Python', 'AI', 'AI', 'Python', 'Python', 'AI', 'AI', 'Machine Learning', 'AI', 'Machine Learning', 'Machine Learning', 'Machine Learning', 'Machine Learning', 'AI', 'AI', 'Machine Learning', 'Machine Learning', 'Machine Learning', 'AI', 'AI', 'AI', 'Data Science', 'Data Science', 'AI', 'AI', 'AI', 'Data Science', 'AI', 'Python', 'AI', 'AI', 'Data Science', 'Python', 'AI', 'Python', 'Python', 'AI', 'AI', 'Data Science', 'Python', 'AI', 'Python', 'Python', 'Data Science', 'AI', 'Python', 'AI', 'Python', 'Python', 'AI', 'AI', 'AI', 'AI', 'AI', 'Python', 'Python', 'Python', 'Python', 'Python', 'Python', 'AI', 'AI', 'AI', 'AI', 'AI', 'AI', 'Python', 'Python', 'Python', 'Python', 'AI', 'Python', 'Python', 'AI', 'AI', 'Python', 'AI', 'AI', 'AI', 'AI', 'Python', 'AI', 'AI', 'AI', 'AI', 'AI', 'AI', 'AI', 'AI', 'AI', 'Python', 'AI', 'AI', 'Python', 'AI', 'Python', 'Python', 'AI', 'AI', 'AI', 'Python', 'Python', 'Python', 'AI', 'Python', 'Data Science', 'Python', 'Python', 'Python', 'AI', 'AI', 'Python', 'AI', 'AI', 'AI', 'Python', 'Python', 'Python', 'Python', 'Python', 'Python', 'AI', 'AI', 'Python', 'Python', 'Python', 'Data Science', 'AI', 'AI', 'AI', 'Machine Learning', 'AI', 'AI', 'Python', 'AI', 'Machine Learning', 'AI', 'AI', 'Python', 'AI', 'AI', 'AI', 'AI', 'Python', 'Python', 'Python', 'Python', 'Python', 'AI', 'Python', 'AI', 'Data Science', 'Data Science', 'AI', 'Data Science', 'Data Science', 'Data Science', 'Data Science', 'AI', 'Python', 'Python', 'AI', 'AI', 'Python', 'AI', 'Python', 'Python', 'Python', 'AI', 'Python', 'AI', 'AI', 'AI', 'Python', 'Python', 'Python', 'Data Science', 'Python', 'AI', 'AI', 'AI', 'Python', 'AI', 'AI', 'AI', 'AI', 'AI', 'AI', 'Machine Learning', 'AI', 'AI', 'Machine Learning', 'AI', 'AI', 'AI', 'AI', 'Python', 'AI', 'Python', 'Machine Learning', 'AI', 'Python', 'Python', 'AI', 'AI', 'AI', 'AI', 'AI', 'AI', 'AI', 'AI', 'Python', 'AI', 'AI', 'Python', 'AI', 'Python', 'Python', 'Python', 'Python', 'Python', 'Python', 'AI', 'AI', 'AI', 'AI', 'AI', 'AI', 'AI', 'AI', 'AI', 'AI', 'Python', 'AI', 'Python', 'AI', 'AI', 'AI', 'AI', 'Python', 'Python', 'AI', 'AI', 'Python', 'Python', 'AI', 'AI', 'Python', 'Machine Learning', 'AI', 'AI', 'AI', 'AI', 'AI', 'AI', 'Machine Learning', 'AI', 'AI', 'AI', 'Python', 'AI', 'AI', 'AI', 'Python', 'AI', 'AI', 'AI', 'AI', 'AI', 'Python', 'AI', 'AI', 'AI', 'AI', 'AI', 'AI', 'AI', 'Python', 'AI', 'AI', 'AI', 'AI', 'Data Science', 'Python', 'Python', 'Python', 'Python', 'AI', 'AI', 'Python', 'Python', 'AI', 'Python', 'Python', 'Python', 'Python', 'Python', 'AI', 'Python', 'Python', 'AI', 'Python', 'Python', 'AI', 'Python', 'AI', 'Data Science', 'Python', 'Data Science', 'AI', 'AI', 'AI', 'AI', 'AI', 'AI', 'AI', 'AI', 'AI', 'AI', 'Python', 'AI', 'AI', 'AI', 'AI', 'AI', 'Python', 'AI', 'AI', 'Python', 'AI', 'Python', 'Python', 'Python', 'AI', 'Data Science', 'AI', 'Python', 'Python', 'AI', 'AI', 'AI', 'AI', 'AI', 'AI', 'Machine Learning', 'Data Science', 'AI', 'Machine Learning', 'AI', 'AI', 'Python', 'Python', 'AI', 'Python', 'Python', 'AI', 'Python', 'AI', 'AI', 'AI', 'Python', 'Python', 'AI', 'AI', 'AI', 'Python', 'AI', 'AI', 'Python', 'Machine Learning', 'AI', 'AI', 'Python', 'Python', 'Python', 'AI', 'AI']\n"
     ]
    }
   ],
   "source": [
    "import numpy as np\n",
    "import pandas as pd\n",
    "import spacy\n",
    "from sklearn.feature_extraction.text import TfidfVectorizer\n",
    "from gensim.corpora.dictionary import Dictionary\n",
    "from gensim.models.ldamodel import LdaModel\n",
    "from transformers import pipeline\n",
    "from collections import Counter\n",
    "\n",
    "\n",
    "df[\"text\"] = df[\"tokens\"].apply(lambda tokens: ' '.join(tokens))\n",
    "\n",
    "nlp = spacy.load(\"en_core_web_sm\")\n",
    "\n",
    "def extract_named_entities(text):\n",
    "    doc = nlp(text)\n",
    "    return [ent.text for ent in doc.ents]\n",
    "\n",
    "df[\"named_entities\"] = df[\"text\"].apply(extract_named_entities)\n",
    "\n",
    "vectorizer = TfidfVectorizer(stop_words=\"english\")\n",
    "X = vectorizer.fit_transform(df[\"text\"])\n",
    "tfidf_tokens = np.array(vectorizer.get_feature_names_out())\n",
    "tfidf_scores = np.array(X.mean(axis=0)).flatten()\n",
    "top_tfidf = [tfidf_tokens[idx] for idx in tfidf_scores.argsort()[-5:]] \n",
    "\n",
    "texts = [doc.split() for doc in df[\"text\"]]\n",
    "dictionary = Dictionary(texts)\n",
    "corpus = [dictionary.doc2bow(text) for text in texts]\n",
    "lda = LdaModel(corpus, num_topics=2, id2word=dictionary, passes=10)\n",
    "lda_topics = lda.print_topics(num_words=5)\n",
    "\n",
    "classifier = pipeline(\"zero-shot-classification\")\n",
    "hypothesis_labels = [\"AI\", \"Machine Learning\", \"Python\", \"Data Science\"]\n",
    "\n",
    "df[\"bert_aspect\"] = df[\"text\"].apply(lambda x: classifier(x, candidate_labels=hypothesis_labels)[\"labels\"][0])\n",
    "\n",
    "print(\"\\n Named Entities:\", df[\"named_entities\"].tolist())\n",
    "print(\"\\n Top TF-IDF Words:\", top_tfidf)\n",
    "print(\"\\n LDA Topics:\")\n",
    "for topic in lda_topics:\n",
    "    print(topic)\n",
    "print(\"\\n  BERT Aspect Classification:\", df[\"bert_aspect\"].tolist())\n"
   ]
  },
  {
   "cell_type": "code",
   "execution_count": 124,
   "id": "b716024d-e31d-40d6-a646-4540f88c4d39",
   "metadata": {},
   "outputs": [
    {
     "name": "stdout",
     "output_type": "stream",
     "text": [
      "Epoch 1/5\n"
     ]
    },
    {
     "name": "stderr",
     "output_type": "stream",
     "text": [
      "C:\\Users\\tzhex\\anaconda3\\Lib\\site-packages\\keras\\src\\layers\\core\\embedding.py:90: UserWarning: Argument `input_length` is deprecated. Just remove it.\n",
      "  warnings.warn(\n"
     ]
    },
    {
     "name": "stdout",
     "output_type": "stream",
     "text": [
      "\u001b[1m10/10\u001b[0m \u001b[32m━━━━━━━━━━━━━━━━━━━━\u001b[0m\u001b[37m\u001b[0m \u001b[1m4s\u001b[0m 81ms/step - accuracy: 0.4843 - loss: 2.3626 - val_accuracy: 0.6125 - val_loss: 1.1631\n",
      "Epoch 2/5\n",
      "\u001b[1m10/10\u001b[0m \u001b[32m━━━━━━━━━━━━━━━━━━━━\u001b[0m\u001b[37m\u001b[0m \u001b[1m0s\u001b[0m 25ms/step - accuracy: 0.6624 - loss: 0.9818 - val_accuracy: 0.7474 - val_loss: 0.9188\n",
      "Epoch 3/5\n",
      "\u001b[1m10/10\u001b[0m \u001b[32m━━━━━━━━━━━━━━━━━━━━\u001b[0m\u001b[37m\u001b[0m \u001b[1m0s\u001b[0m 23ms/step - accuracy: 0.8077 - loss: 0.7648 - val_accuracy: 0.7382 - val_loss: 0.8671\n",
      "Epoch 4/5\n",
      "\u001b[1m10/10\u001b[0m \u001b[32m━━━━━━━━━━━━━━━━━━━━\u001b[0m\u001b[37m\u001b[0m \u001b[1m0s\u001b[0m 23ms/step - accuracy: 0.8117 - loss: 0.6708 - val_accuracy: 0.7526 - val_loss: 0.8026\n",
      "Epoch 5/5\n",
      "\u001b[1m10/10\u001b[0m \u001b[32m━━━━━━━━━━━━━━━━━━━━\u001b[0m\u001b[37m\u001b[0m \u001b[1m0s\u001b[0m 23ms/step - accuracy: 0.8154 - loss: 0.6357 - val_accuracy: 0.7514 - val_loss: 0.7819\n",
      "\u001b[1m3/3\u001b[0m \u001b[32m━━━━━━━━━━━━━━━━━━━━\u001b[0m\u001b[37m\u001b[0m \u001b[1m1s\u001b[0m 221ms/step\n",
      "tag2idx: {'1': 0, '5': 1, '6': 2, '8': 3, '11': 4, '3': 5, '2': 6, '12': 7, '0': 8, '4': 9, '9': 10, '7': 11, '10': 12, '13': 13, '14': 14, 'PAD': 15}\n",
      "              precision    recall  f1-score   support\n",
      "\n",
      "           1       0.00      0.00      0.00        83\n",
      "           5       0.00      0.00      0.00        87\n",
      "           6       0.00      0.00      0.00       214\n",
      "           8       0.00      0.00      0.00        71\n",
      "          11       0.00      0.00      0.00        13\n",
      "           3       0.00      0.00      0.00        96\n",
      "           2       0.00      0.00      0.00       113\n",
      "          12       0.00      0.00      0.00        78\n",
      "           0       0.46      1.00      0.63       687\n",
      "           4       0.00      0.00      0.00        15\n",
      "           9       0.00      0.00      0.00        22\n",
      "           7       0.00      0.00      0.00        15\n",
      "          10       0.00      0.00      0.00         1\n",
      "          13       0.00      0.00      0.00         1\n",
      "          14       0.00      0.00      0.00         0\n",
      "\n",
      "   micro avg       0.46      0.46      0.46      1496\n",
      "   macro avg       0.03      0.07      0.04      1496\n",
      "weighted avg       0.21      0.46      0.29      1496\n",
      "\n"
     ]
    }
   ],
   "source": [
    "import numpy as np\n",
    "import pandas as pd\n",
    "from sklearn.model_selection import train_test_split\n",
    "from tensorflow.keras.preprocessing.sequence import pad_sequences\n",
    "from tensorflow.keras.utils import to_categorical\n",
    "from tensorflow.keras.models import Sequential\n",
    "from tensorflow.keras.layers import Embedding, LSTM, Dense, TimeDistributed, Bidirectional\n",
    "from sklearn.metrics import classification_report\n",
    "\n",
    "tokens_list = []\n",
    "ner_tags_list = []\n",
    "\n",
    "for tokens, tags in zip(df['tokens'], df['ner-tags']):\n",
    "    tokens_list.append(tokens)\n",
    "    ner_tags_list.append(tags)\n",
    "\n",
    "unique_words = list(set([word for sentence in tokens_list for word in sentence]))\n",
    "unique_tags = list(set([str(tag) for tags in ner_tags_list for tag in tags]))  \n",
    "word2idx = {w: i + 1 for i, w in enumerate(unique_words)}\n",
    "word2idx[\"PAD\"] = 0  \n",
    "tag2idx = {t: i for i, t in enumerate(unique_tags)}\n",
    "tag2idx[\"PAD\"] = len(tag2idx)  \n",
    "\n",
    "X = [[word2idx[w] for w in s] for s in tokens_list]\n",
    "y = [[tag2idx[str(t)] for t in s] for s in ner_tags_list]  \n",
    "\n",
    "max_len = max(len(x) for x in X)\n",
    "X_padded = pad_sequences(X, maxlen=max_len, padding=\"post\", value=word2idx[\"PAD\"])\n",
    "y_padded = pad_sequences(y, maxlen=max_len, padding=\"post\", value=tag2idx[\"PAD\"])\n",
    "\n",
    "y_categorical = [to_categorical(i, num_classes=len(tag2idx)) for i in y_padded]\n",
    "\n",
    "X_train, X_test, y_train, y_test = train_test_split(X_padded, y_categorical, test_size=0.2, random_state=42)\n",
    "\n",
    "model = Sequential([\n",
    "    Embedding(input_dim=len(word2idx), output_dim=50, input_length=max_len),\n",
    "    Bidirectional(LSTM(units=100, return_sequences=True, recurrent_dropout=0.2)),\n",
    "    TimeDistributed(Dense(len(tag2idx), activation=\"softmax\"))\n",
    "])\n",
    "\n",
    "model.compile(optimizer=\"adam\", loss=\"categorical_crossentropy\", metrics=[\"accuracy\"])\n",
    "\n",
    "model.fit(X_train, np.array(y_train), batch_size=32, epochs=5, validation_split=0.1, verbose=1)\n",
    "\n",
    "y_pred = model.predict(X_test)\n",
    "\n",
    "y_pred_labels = np.argmax(y_pred, axis=-1)\n",
    "y_test_labels = np.argmax(y_test, axis=-1)\n",
    "\n",
    "flat_pred = [tag for sentence in y_pred_labels for tag in sentence]\n",
    "flat_test = [tag for sentence in y_test_labels for tag in sentence]\n",
    "\n",
    "print(\"tag2idx:\", tag2idx)\n",
    "\n",
    "target_names = [tag for tag, idx in tag2idx.items() if tag != \"PAD\"]\n",
    "label_indices = [idx for tag, idx in tag2idx.items() if tag != \"PAD\"]\n",
    "\n",
    "print(classification_report(flat_test, flat_pred, labels=label_indices, target_names=target_names, zero_division=0))\n"
   ]
  },
  {
   "cell_type": "markdown",
   "id": "262936ec-9434-4711-99ee-85270152ccaf",
   "metadata": {},
   "source": [
    "## 4. Using a Pretrained Embedding Layer"
   ]
  },
  {
   "cell_type": "code",
   "execution_count": 131,
   "id": "4377c3c7-221c-493b-8e07-6bdcb1d2fbd5",
   "metadata": {},
   "outputs": [
    {
     "name": "stdout",
     "output_type": "stream",
     "text": [
      "Loading Pretrained Embeddings...\n",
      "Epoch 1/10\n"
     ]
    },
    {
     "name": "stderr",
     "output_type": "stream",
     "text": [
      "C:\\Users\\tzhex\\anaconda3\\Lib\\site-packages\\keras\\src\\layers\\core\\embedding.py:90: UserWarning: Argument `input_length` is deprecated. Just remove it.\n",
      "  warnings.warn(\n"
     ]
    },
    {
     "name": "stdout",
     "output_type": "stream",
     "text": [
      "\u001b[1m10/10\u001b[0m \u001b[32m━━━━━━━━━━━━━━━━━━━━\u001b[0m\u001b[37m\u001b[0m \u001b[1m6s\u001b[0m 111ms/step - accuracy: 0.5441 - loss: 2.5997 - val_accuracy: 0.7468 - val_loss: 1.6500\n",
      "Epoch 2/10\n",
      "\u001b[1m10/10\u001b[0m \u001b[32m━━━━━━━━━━━━━━━━━━━━\u001b[0m\u001b[37m\u001b[0m \u001b[1m0s\u001b[0m 32ms/step - accuracy: 0.7857 - loss: 1.1937 - val_accuracy: 0.7330 - val_loss: 0.8358\n",
      "Epoch 3/10\n",
      "\u001b[1m10/10\u001b[0m \u001b[32m━━━━━━━━━━━━━━━━━━━━\u001b[0m\u001b[37m\u001b[0m \u001b[1m0s\u001b[0m 28ms/step - accuracy: 0.7888 - loss: 0.6777 - val_accuracy: 0.7612 - val_loss: 0.7149\n",
      "Epoch 4/10\n",
      "\u001b[1m10/10\u001b[0m \u001b[32m━━━━━━━━━━━━━━━━━━━━\u001b[0m\u001b[37m\u001b[0m \u001b[1m0s\u001b[0m 27ms/step - accuracy: 0.8219 - loss: 0.5827 - val_accuracy: 0.7935 - val_loss: 0.6576\n",
      "Epoch 5/10\n",
      "\u001b[1m10/10\u001b[0m \u001b[32m━━━━━━━━━━━━━━━━━━━━\u001b[0m\u001b[37m\u001b[0m \u001b[1m0s\u001b[0m 29ms/step - accuracy: 0.8402 - loss: 0.5333 - val_accuracy: 0.7993 - val_loss: 0.6232\n",
      "Epoch 6/10\n",
      "\u001b[1m10/10\u001b[0m \u001b[32m━━━━━━━━━━━━━━━━━━━━\u001b[0m\u001b[37m\u001b[0m \u001b[1m0s\u001b[0m 28ms/step - accuracy: 0.8390 - loss: 0.5209 - val_accuracy: 0.8126 - val_loss: 0.5998\n",
      "Epoch 7/10\n",
      "\u001b[1m10/10\u001b[0m \u001b[32m━━━━━━━━━━━━━━━━━━━━\u001b[0m\u001b[37m\u001b[0m \u001b[1m0s\u001b[0m 29ms/step - accuracy: 0.8460 - loss: 0.4962 - val_accuracy: 0.8166 - val_loss: 0.5742\n",
      "Epoch 8/10\n",
      "\u001b[1m10/10\u001b[0m \u001b[32m━━━━━━━━━━━━━━━━━━━━\u001b[0m\u001b[37m\u001b[0m \u001b[1m0s\u001b[0m 28ms/step - accuracy: 0.8534 - loss: 0.4653 - val_accuracy: 0.8149 - val_loss: 0.5633\n",
      "Epoch 9/10\n",
      "\u001b[1m10/10\u001b[0m \u001b[32m━━━━━━━━━━━━━━━━━━━━\u001b[0m\u001b[37m\u001b[0m \u001b[1m0s\u001b[0m 30ms/step - accuracy: 0.8643 - loss: 0.4276 - val_accuracy: 0.8339 - val_loss: 0.5416\n",
      "Epoch 10/10\n",
      "\u001b[1m10/10\u001b[0m \u001b[32m━━━━━━━━━━━━━━━━━━━━\u001b[0m\u001b[37m\u001b[0m \u001b[1m0s\u001b[0m 26ms/step - accuracy: 0.8643 - loss: 0.4263 - val_accuracy: 0.8385 - val_loss: 0.5273\n",
      "\u001b[1m3/3\u001b[0m \u001b[32m━━━━━━━━━━━━━━━━━━━━\u001b[0m\u001b[37m\u001b[0m \u001b[1m1s\u001b[0m 310ms/step\n",
      "              precision    recall  f1-score   support\n",
      "\n",
      "           1       0.51      0.25      0.34        83\n",
      "           5       0.41      0.47      0.44        87\n",
      "           6       0.49      0.68      0.57       214\n",
      "           8       0.00      0.00      0.00        71\n",
      "          11       0.00      0.00      0.00        13\n",
      "           3       0.76      0.58      0.66        96\n",
      "           2       0.56      0.56      0.56       113\n",
      "          12       0.41      0.09      0.15        78\n",
      "           0       0.66      0.82      0.73       687\n",
      "           4       0.00      0.00      0.00        15\n",
      "           9       0.00      0.00      0.00        22\n",
      "           7       0.00      0.00      0.00        15\n",
      "          10       0.00      0.00      0.00         1\n",
      "          13       0.00      0.00      0.00         1\n",
      "          14       0.00      0.00      0.00         0\n",
      "\n",
      "   micro avg       0.60      0.60      0.60      1496\n",
      "   macro avg       0.25      0.23      0.23      1496\n",
      "weighted avg       0.54      0.60      0.55      1496\n",
      "\n"
     ]
    }
   ],
   "source": [
    "import numpy as np\n",
    "import pandas as pd\n",
    "from sklearn.model_selection import train_test_split\n",
    "from tensorflow.keras.preprocessing.sequence import pad_sequences\n",
    "from tensorflow.keras.utils import to_categorical\n",
    "from tensorflow.keras.models import Sequential\n",
    "from tensorflow.keras.layers import Embedding, LSTM, Dense, TimeDistributed, Bidirectional\n",
    "from sklearn.metrics import classification_report\n",
    "from gensim.models import KeyedVectors\n",
    "\n",
    "print(\"Loading Pretrained Embeddings...\")\n",
    "word_vectors = KeyedVectors.load_word2vec_format(\n",
    "    \"C:/Users/tzhex/Downloads/glove.6B/glove.6B.300d.txt\", \n",
    "    binary=False, no_header=True\n",
    ")\n",
    "\n",
    "tokens_list = []\n",
    "ner_tags_list = []\n",
    "\n",
    "for tokens, tags in zip(df['tokens'], df['ner-tags']):\n",
    "    tokens_list.append(tokens)\n",
    "    ner_tags_list.append(tags)\n",
    "\n",
    "unique_words = list(set([word for sentence in tokens_list for word in sentence]))\n",
    "unique_tags = list(set([str(tag) for tags in ner_tags_list for tag in tags]))  \n",
    "\n",
    "word2idx = {w: i + 1 for i, w in enumerate(unique_words)}\n",
    "word2idx[\"PAD\"] = 0  \n",
    "tag2idx = {t: i for i, t in enumerate(unique_tags)}\n",
    "tag2idx[\"PAD\"] = len(tag2idx) \n",
    "\n",
    "X = [[word2idx.get(w, 0) for w in s] for s in tokens_list]  \n",
    "y = [[tag2idx[str(t)] for t in s] for s in ner_tags_list]\n",
    "\n",
    "\n",
    "max_len = max(len(x) for x in X)\n",
    "X_padded = pad_sequences(X, maxlen=max_len, padding=\"post\", value=word2idx[\"PAD\"])\n",
    "y_padded = pad_sequences(y, maxlen=max_len, padding=\"post\", value=tag2idx[\"PAD\"])\n",
    "\n",
    "y_categorical = [to_categorical(i, num_classes=len(tag2idx)) for i in y_padded]\n",
    "\n",
    "X_train, X_test, y_train, y_test = train_test_split(X_padded, y_categorical, test_size=0.2, random_state=42)\n",
    "\n",
    "embedding_dim = 300  \n",
    "\n",
    "\n",
    "embedding_matrix = np.zeros((len(word2idx), embedding_dim))\n",
    "\n",
    "for word, idx in word2idx.items():\n",
    "    if word in word_vectors:\n",
    "        embedding_matrix[idx] = word_vectors[word]  \n",
    "\n",
    "model = Sequential([\n",
    "    Embedding(input_dim=len(word2idx), output_dim=embedding_dim, weights=[embedding_matrix], \n",
    "              input_length=max_len, trainable=False),  \n",
    "    Bidirectional(LSTM(units=100, return_sequences=True, recurrent_dropout=0.2)),\n",
    "    TimeDistributed(Dense(len(tag2idx), activation=\"softmax\"))\n",
    "])\n",
    "\n",
    "\n",
    "model.compile(optimizer=\"adam\", loss=\"categorical_crossentropy\", metrics=[\"accuracy\"])\n",
    "\n",
    "\n",
    "model.fit(X_train, np.array(y_train), batch_size=32, epochs=10, validation_split=0.1, verbose=1)\n",
    "\n",
    "y_pred = model.predict(X_test)\n",
    "\n",
    "y_pred_labels = np.argmax(y_pred, axis=-1)\n",
    "y_test_labels = np.argmax(y_test, axis=-1)\n",
    "\n",
    "flat_pred = [tag for sentence in y_pred_labels for tag in sentence]\n",
    "flat_test = [tag for sentence in y_test_labels for tag in sentence]\n",
    "\n",
    "target_names = [tag for tag, idx in tag2idx.items() if tag != \"PAD\"]\n",
    "label_indices = [idx for tag, idx in tag2idx.items() if tag != \"PAD\"]\n",
    "\n",
    "print(classification_report(flat_test, flat_pred, labels=label_indices, target_names=target_names, zero_division=0))\n"
   ]
  },
  {
   "cell_type": "code",
   "execution_count": 143,
   "id": "570da875-750a-489f-a073-febd69408031",
   "metadata": {},
   "outputs": [
    {
     "name": "stdout",
     "output_type": "stream",
     "text": [
      " Sample 12:\n",
      "\n",
      "Token: The              True Tag: 1           Predicted Tag: 2\n",
      "Token: GO               True Tag: 2           Predicted Tag: 2\n",
      "Token: assigns          True Tag: 3           Predicted Tag: 3\n",
      "Token: himself          True Tag: 5           Predicted Tag: 0\n",
      "Token: as               True Tag: 7           Predicted Tag: 0\n",
      "Token: MSP              True Tag: 8           Predicted Tag: 0\n",
      "Token: .                True Tag: 0           Predicted Tag: 0\n",
      "\n",
      "--------------------------------------------------\n",
      "\n",
      " Sample 50:\n",
      "\n",
      "Token: The              True Tag: 1           Predicted Tag: 2\n",
      "Token: treasurer        True Tag: 2           Predicted Tag: 2\n",
      "Token: checks           True Tag: 3           Predicted Tag: 3\n",
      "Token: that             True Tag: 0           Predicted Tag: 0\n",
      "Token: all              True Tag: 0           Predicted Tag: 0\n",
      "Token: the              True Tag: 5           Predicted Tag: 5\n",
      "Token: receipts         True Tag: 6           Predicted Tag: 6\n",
      "Token: have             True Tag: 0           Predicted Tag: 0\n",
      "Token: been             True Tag: 0           Predicted Tag: 0\n",
      "Token: submitted        True Tag: 0           Predicted Tag: 3\n",
      "Token: and              True Tag: 0           Predicted Tag: 0\n",
      "Token: match            True Tag: 0           Predicted Tag: 0\n",
      "Token: the              True Tag: 0           Predicted Tag: 5\n",
      "Token: items            True Tag: 0           Predicted Tag: 6\n",
      "Token: on               True Tag: 0           Predicted Tag: 0\n",
      "Token: the              True Tag: 0           Predicted Tag: 0\n",
      "Token: list             True Tag: 0           Predicted Tag: 6\n",
      "Token: .                True Tag: 0           Predicted Tag: 0\n",
      "\n",
      "--------------------------------------------------\n",
      "\n",
      " Sample 46:\n",
      "\n",
      "Token: Once             True Tag: 0           Predicted Tag: 0\n",
      "Token: the              True Tag: 5           Predicted Tag: 5\n",
      "Token: dates            True Tag: 6           Predicted Tag: 6\n",
      "Token: are              True Tag: 0           Predicted Tag: 0\n",
      "Token: finalized        True Tag: 3           Predicted Tag: 6\n",
      "Token: (                True Tag: 0           Predicted Tag: 0\n",
      "Token: by               True Tag: 0           Predicted Tag: 0\n",
      "Token: the              True Tag: 1           Predicted Tag: 0\n",
      "Token: Coordination     True Tag: 2           Predicted Tag: 0\n",
      "Token: Unit             True Tag: 2           Predicted Tag: 0\n",
      "Token: )                True Tag: 0           Predicted Tag: 0\n",
      "Token: ,                True Tag: 0           Predicted Tag: 0\n",
      "Token: the              True Tag: 1           Predicted Tag: 1\n",
      "Token: Support          True Tag: 2           Predicted Tag: 2\n",
      "Token: Officer          True Tag: 2           Predicted Tag: 0\n",
      "Token: updates          True Tag: 3           Predicted Tag: 6\n",
      "Token: all              True Tag: 5           Predicted Tag: 0\n",
      "Token: group            True Tag: 6           Predicted Tag: 0\n",
      "Token: calendars        True Tag: 6           Predicted Tag: 0\n",
      "Token: and              True Tag: 0           Predicted Tag: 0\n",
      "Token: creates          True Tag: 3           Predicted Tag: 3\n",
      "Token: meeting          True Tag: 5           Predicted Tag: 0\n",
      "Token: folders          True Tag: 6           Predicted Tag: 3\n",
      "Token: for              True Tag: 6           Predicted Tag: 0\n",
      "Token: each             True Tag: 6           Predicted Tag: 0\n",
      "Token: meeting          True Tag: 6           Predicted Tag: 0\n",
      "Token: and              True Tag: 0           Predicted Tag: 0\n",
      "Token: ensures          True Tag: 3           Predicted Tag: 0\n",
      "Token: all              True Tag: 5           Predicted Tag: 0\n",
      "Token: appropriate      True Tag: 6           Predicted Tag: 0\n",
      "Token: documents        True Tag: 6           Predicted Tag: 6\n",
      "Token: are              True Tag: 6           Predicted Tag: 0\n",
      "Token: uploaded         True Tag: 6           Predicted Tag: 3\n",
      "Token: to               True Tag: 6           Predicted Tag: 0\n",
      "Token: system           True Tag: 6           Predicted Tag: 0\n",
      "Token: .                True Tag: 0           Predicted Tag: 0\n",
      "\n",
      "--------------------------------------------------\n",
      "\n"
     ]
    }
   ],
   "source": [
    "def convert_ids_to_words(token_ids, word2idx):\n",
    "    idx2word = {idx: word for word, idx in word2idx.items()}  \n",
    "    return [idx2word[token_id] if token_id in idx2word else \"UNK\" for token_id in token_ids]\n",
    "\n",
    "def display_predictions(X_test, y_true, y_pred, num_samples=3):\n",
    "    indices = np.random.choice(len(X_test), size=num_samples, replace=False)\n",
    "\n",
    "    for idx in indices:\n",
    "        tokens = convert_ids_to_words(X_test[idx], word2idx) \n",
    "        true_tags = [target_names[label] for label in y_true[idx] if label != tag2idx[\"PAD\"]]\n",
    "        pred_tags = [target_names[label] for label in y_pred[idx] if label != tag2idx[\"PAD\"]]\n",
    "\n",
    "        print(f\" Sample {idx + 1}:\\n\")\n",
    "        for token, true, pred in zip(tokens, true_tags, pred_tags):\n",
    "            print(f\"Token: {token:<15}  True Tag: {true:<10}  Predicted Tag: {pred}\")\n",
    "        print(\"\\n\" + \"-\" * 50 + \"\\n\")\n",
    "\n",
    "display_predictions(X_test, y_test_labels, y_pred_labels)\n"
   ]
  },
  {
   "cell_type": "code",
   "execution_count": null,
   "id": "ba0a56ea-4f75-4b66-bdff-9a6360658256",
   "metadata": {},
   "outputs": [],
   "source": []
  }
 ],
 "metadata": {
  "kernelspec": {
   "display_name": "Python 3 (ipykernel)",
   "language": "python",
   "name": "python3"
  },
  "language_info": {
   "codemirror_mode": {
    "name": "ipython",
    "version": 3
   },
   "file_extension": ".py",
   "mimetype": "text/x-python",
   "name": "python",
   "nbconvert_exporter": "python",
   "pygments_lexer": "ipython3",
   "version": "3.12.7"
  }
 },
 "nbformat": 4,
 "nbformat_minor": 5
}
